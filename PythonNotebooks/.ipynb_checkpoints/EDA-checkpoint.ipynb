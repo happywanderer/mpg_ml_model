{
 "cells": [
  {
   "cell_type": "markdown",
   "metadata": {},
   "source": [
    "# EDA Notebook for my data set\n",
    "\n",
    "### The data set is:\n",
    "mpg = the full, 'cleaned' data set \n"
   ]
  },
  {
   "cell_type": "code",
   "execution_count": 1,
   "metadata": {},
   "outputs": [],
   "source": [
    "# import all the things\n",
    "import numpy as np\n",
    "import pandas as pd\n",
    "import seaborn as sns\n",
    "import matplotlib.pyplot as plt\n",
    "\n",
    "%matplotlib inline "
   ]
  },
  {
   "cell_type": "code",
   "execution_count": 2,
   "metadata": {},
   "outputs": [],
   "source": [
    "# add a touch of style to plots\n",
    "plt.rcParams['figure.figsize'] = (8, 8)\n",
    "plt.rcParams['font.size'] = 14\n",
    "plt.style.use('fivethirtyeight')"
   ]
  },
  {
   "cell_type": "code",
   "execution_count": 3,
   "metadata": {},
   "outputs": [],
   "source": [
    "# read in all my csv files that I'll be doing EDA on\n",
    "mpg = pd.read_csv(\"../datasets/mpg.csv\")"
   ]
  },
  {
   "cell_type": "code",
   "execution_count": 4,
   "metadata": {},
   "outputs": [
    {
     "data": {
      "text/html": [
       "<div>\n",
       "<style scoped>\n",
       "    .dataframe tbody tr th:only-of-type {\n",
       "        vertical-align: middle;\n",
       "    }\n",
       "\n",
       "    .dataframe tbody tr th {\n",
       "        vertical-align: top;\n",
       "    }\n",
       "\n",
       "    .dataframe thead th {\n",
       "        text-align: right;\n",
       "    }\n",
       "</style>\n",
       "<table border=\"1\" class=\"dataframe\">\n",
       "  <thead>\n",
       "    <tr style=\"text-align: right;\">\n",
       "      <th></th>\n",
       "      <th>year</th>\n",
       "      <th>make</th>\n",
       "      <th>model</th>\n",
       "      <th>vehicle_class</th>\n",
       "      <th>combMPG</th>\n",
       "      <th>cityMPG</th>\n",
       "      <th>hwyMPG</th>\n",
       "      <th>cylinders</th>\n",
       "      <th>displacement</th>\n",
       "      <th>drive</th>\n",
       "      <th>tran_type</th>\n",
       "      <th>fuel_type</th>\n",
       "      <th>co2</th>\n",
       "    </tr>\n",
       "  </thead>\n",
       "  <tbody>\n",
       "    <tr>\n",
       "      <th>0</th>\n",
       "      <td>1985</td>\n",
       "      <td>Alfa Romeo</td>\n",
       "      <td>Spider Veloce 2000</td>\n",
       "      <td>coupe</td>\n",
       "      <td>22.0</td>\n",
       "      <td>19</td>\n",
       "      <td>25</td>\n",
       "      <td>4</td>\n",
       "      <td>2.0</td>\n",
       "      <td>rwd</td>\n",
       "      <td>M</td>\n",
       "      <td>regular</td>\n",
       "      <td>423.190476</td>\n",
       "    </tr>\n",
       "    <tr>\n",
       "      <th>1</th>\n",
       "      <td>1985</td>\n",
       "      <td>Ferrari</td>\n",
       "      <td>Testarossa</td>\n",
       "      <td>coupe</td>\n",
       "      <td>11.5</td>\n",
       "      <td>9</td>\n",
       "      <td>14</td>\n",
       "      <td>12</td>\n",
       "      <td>4.9</td>\n",
       "      <td>rwd</td>\n",
       "      <td>M</td>\n",
       "      <td>regular</td>\n",
       "      <td>807.909091</td>\n",
       "    </tr>\n",
       "  </tbody>\n",
       "</table>\n",
       "</div>"
      ],
      "text/plain": [
       "   year        make               model vehicle_class  combMPG  cityMPG  \\\n",
       "0  1985  Alfa Romeo  Spider Veloce 2000         coupe     22.0       19   \n",
       "1  1985     Ferrari          Testarossa         coupe     11.5        9   \n",
       "\n",
       "   hwyMPG  cylinders  displacement drive tran_type fuel_type         co2  \n",
       "0      25          4           2.0   rwd         M   regular  423.190476  \n",
       "1      14         12           4.9   rwd         M   regular  807.909091  "
      ]
     },
     "metadata": {},
     "output_type": "display_data"
    }
   ],
   "source": [
    "# take a peak at the dataframes\n",
    "display(mpg.head(2))"
   ]
  },
  {
   "cell_type": "markdown",
   "metadata": {},
   "source": [
    "## Preliminary EDA\n",
    "\n",
    "Simple pandas EDA here."
   ]
  },
  {
   "cell_type": "code",
   "execution_count": 5,
   "metadata": {},
   "outputs": [
    {
     "name": "stdout",
     "output_type": "stream",
     "text": [
      "Full dataset shape, columns, and index:\n",
      "Shape: (39825, 13) \n",
      "Columns: Index(['year', 'make', 'model', 'vehicle_class', 'combMPG', 'cityMPG',\n",
      "       'hwyMPG', 'cylinders', 'displacement', 'drive', 'tran_type',\n",
      "       'fuel_type', 'co2'],\n",
      "      dtype='object') \n",
      "Index: RangeIndex(start=0, stop=39825, step=1)\n"
     ]
    }
   ],
   "source": [
    "# Do some very preliminary EDA (which I really did during data munging step)\n",
    "# Just printing shape, columns, and index\n",
    "print('Full dataset shape, columns, and index:\\nShape:', mpg.shape, \n",
    "      '\\nColumns:', mpg.columns, \n",
    "      '\\nIndex:',mpg.index)"
   ]
  },
  {
   "cell_type": "markdown",
   "metadata": {},
   "source": [
    "## .describe() \n",
    "\n",
    "A little deeper digging with .describe() to get my first look at some statistics for this dataset"
   ]
  },
  {
   "cell_type": "code",
   "execution_count": 6,
   "metadata": {},
   "outputs": [
    {
     "name": "stdout",
     "output_type": "stream",
     "text": [
      "Display the stats for each dataset\n",
      "\n",
      "Full Dataset\n"
     ]
    },
    {
     "data": {
      "text/html": [
       "<div>\n",
       "<style scoped>\n",
       "    .dataframe tbody tr th:only-of-type {\n",
       "        vertical-align: middle;\n",
       "    }\n",
       "\n",
       "    .dataframe tbody tr th {\n",
       "        vertical-align: top;\n",
       "    }\n",
       "\n",
       "    .dataframe thead th {\n",
       "        text-align: right;\n",
       "    }\n",
       "</style>\n",
       "<table border=\"1\" class=\"dataframe\">\n",
       "  <thead>\n",
       "    <tr style=\"text-align: right;\">\n",
       "      <th></th>\n",
       "      <th>year</th>\n",
       "      <th>combMPG</th>\n",
       "      <th>cityMPG</th>\n",
       "      <th>hwyMPG</th>\n",
       "      <th>cylinders</th>\n",
       "      <th>displacement</th>\n",
       "      <th>co2</th>\n",
       "    </tr>\n",
       "  </thead>\n",
       "  <tbody>\n",
       "    <tr>\n",
       "      <th>count</th>\n",
       "      <td>39825.000000</td>\n",
       "      <td>39825.000000</td>\n",
       "      <td>39825.000000</td>\n",
       "      <td>39825.000000</td>\n",
       "      <td>39825.000000</td>\n",
       "      <td>39825.000000</td>\n",
       "      <td>39825.000000</td>\n",
       "    </tr>\n",
       "    <tr>\n",
       "      <th>mean</th>\n",
       "      <td>2001.077338</td>\n",
       "      <td>20.820038</td>\n",
       "      <td>17.675606</td>\n",
       "      <td>23.964470</td>\n",
       "      <td>5.732128</td>\n",
       "      <td>3.307322</td>\n",
       "      <td>472.840847</td>\n",
       "    </tr>\n",
       "    <tr>\n",
       "      <th>std</th>\n",
       "      <td>10.995114</td>\n",
       "      <td>4.988879</td>\n",
       "      <td>4.422495</td>\n",
       "      <td>5.712807</td>\n",
       "      <td>1.755840</td>\n",
       "      <td>1.357266</td>\n",
       "      <td>116.874144</td>\n",
       "    </tr>\n",
       "    <tr>\n",
       "      <th>min</th>\n",
       "      <td>1984.000000</td>\n",
       "      <td>8.000000</td>\n",
       "      <td>6.000000</td>\n",
       "      <td>9.000000</td>\n",
       "      <td>2.000000</td>\n",
       "      <td>0.900000</td>\n",
       "      <td>185.145833</td>\n",
       "    </tr>\n",
       "    <tr>\n",
       "      <th>25%</th>\n",
       "      <td>1991.000000</td>\n",
       "      <td>17.500000</td>\n",
       "      <td>15.000000</td>\n",
       "      <td>20.000000</td>\n",
       "      <td>4.000000</td>\n",
       "      <td>2.200000</td>\n",
       "      <td>386.391304</td>\n",
       "    </tr>\n",
       "    <tr>\n",
       "      <th>50%</th>\n",
       "      <td>2002.000000</td>\n",
       "      <td>20.500000</td>\n",
       "      <td>17.000000</td>\n",
       "      <td>24.000000</td>\n",
       "      <td>6.000000</td>\n",
       "      <td>3.000000</td>\n",
       "      <td>459.000000</td>\n",
       "    </tr>\n",
       "    <tr>\n",
       "      <th>75%</th>\n",
       "      <td>2011.000000</td>\n",
       "      <td>23.500000</td>\n",
       "      <td>20.000000</td>\n",
       "      <td>27.000000</td>\n",
       "      <td>6.000000</td>\n",
       "      <td>4.300000</td>\n",
       "      <td>535.000000</td>\n",
       "    </tr>\n",
       "    <tr>\n",
       "      <th>max</th>\n",
       "      <td>2019.000000</td>\n",
       "      <td>48.500000</td>\n",
       "      <td>44.000000</td>\n",
       "      <td>53.000000</td>\n",
       "      <td>16.000000</td>\n",
       "      <td>8.400000</td>\n",
       "      <td>1269.571429</td>\n",
       "    </tr>\n",
       "  </tbody>\n",
       "</table>\n",
       "</div>"
      ],
      "text/plain": [
       "               year       combMPG       cityMPG        hwyMPG     cylinders  \\\n",
       "count  39825.000000  39825.000000  39825.000000  39825.000000  39825.000000   \n",
       "mean    2001.077338     20.820038     17.675606     23.964470      5.732128   \n",
       "std       10.995114      4.988879      4.422495      5.712807      1.755840   \n",
       "min     1984.000000      8.000000      6.000000      9.000000      2.000000   \n",
       "25%     1991.000000     17.500000     15.000000     20.000000      4.000000   \n",
       "50%     2002.000000     20.500000     17.000000     24.000000      6.000000   \n",
       "75%     2011.000000     23.500000     20.000000     27.000000      6.000000   \n",
       "max     2019.000000     48.500000     44.000000     53.000000     16.000000   \n",
       "\n",
       "       displacement           co2  \n",
       "count  39825.000000  39825.000000  \n",
       "mean       3.307322    472.840847  \n",
       "std        1.357266    116.874144  \n",
       "min        0.900000    185.145833  \n",
       "25%        2.200000    386.391304  \n",
       "50%        3.000000    459.000000  \n",
       "75%        4.300000    535.000000  \n",
       "max        8.400000   1269.571429  "
      ]
     },
     "metadata": {},
     "output_type": "display_data"
    }
   ],
   "source": [
    "# A bit deeper EDA with .describe() for each data set\n",
    "print('Display the stats for each dataset')\n",
    "print('\\nFull Dataset')\n",
    "display(mpg.describe())"
   ]
  },
  {
   "cell_type": "markdown",
   "metadata": {},
   "source": [
    "# Time to dig in and plot some data to get an idea what we're looking at.\n",
    "\n",
    "As my goal is to examine MPG, my plots will be centered around that data point while striving to root out the underlying reasons behind MPG.\n",
    "\n",
    "The plot below clearly highlights the major issue in the hybrid/ev combMPG data. "
   ]
  },
  {
   "cell_type": "code",
   "execution_count": 7,
   "metadata": {},
   "outputs": [
    {
     "data": {
      "text/html": [
       "<div>\n",
       "<style scoped>\n",
       "    .dataframe tbody tr th:only-of-type {\n",
       "        vertical-align: middle;\n",
       "    }\n",
       "\n",
       "    .dataframe tbody tr th {\n",
       "        vertical-align: top;\n",
       "    }\n",
       "\n",
       "    .dataframe thead th {\n",
       "        text-align: right;\n",
       "    }\n",
       "</style>\n",
       "<table border=\"1\" class=\"dataframe\">\n",
       "  <thead>\n",
       "    <tr style=\"text-align: right;\">\n",
       "      <th></th>\n",
       "      <th>cityMPG_mean</th>\n",
       "      <th>hwyMPG_mean</th>\n",
       "      <th>combMPG_mean</th>\n",
       "      <th>year</th>\n",
       "    </tr>\n",
       "    <tr>\n",
       "      <th>year</th>\n",
       "      <th></th>\n",
       "      <th></th>\n",
       "      <th></th>\n",
       "      <th></th>\n",
       "    </tr>\n",
       "  </thead>\n",
       "  <tbody>\n",
       "    <tr>\n",
       "      <th>1984</th>\n",
       "      <td>17.988787</td>\n",
       "      <td>23.085117</td>\n",
       "      <td>20.536952</td>\n",
       "      <td>1984</td>\n",
       "    </tr>\n",
       "    <tr>\n",
       "      <th>1985</th>\n",
       "      <td>17.874044</td>\n",
       "      <td>23.037081</td>\n",
       "      <td>20.455562</td>\n",
       "      <td>1985</td>\n",
       "    </tr>\n",
       "    <tr>\n",
       "      <th>1986</th>\n",
       "      <td>17.667494</td>\n",
       "      <td>22.699752</td>\n",
       "      <td>20.183623</td>\n",
       "      <td>1986</td>\n",
       "    </tr>\n",
       "    <tr>\n",
       "      <th>1987</th>\n",
       "      <td>17.310345</td>\n",
       "      <td>22.445068</td>\n",
       "      <td>19.877706</td>\n",
       "      <td>1987</td>\n",
       "    </tr>\n",
       "    <tr>\n",
       "      <th>1988</th>\n",
       "      <td>17.333628</td>\n",
       "      <td>22.702655</td>\n",
       "      <td>20.018142</td>\n",
       "      <td>1988</td>\n",
       "    </tr>\n",
       "    <tr>\n",
       "      <th>1989</th>\n",
       "      <td>17.143972</td>\n",
       "      <td>22.465742</td>\n",
       "      <td>19.804857</td>\n",
       "      <td>1989</td>\n",
       "    </tr>\n",
       "    <tr>\n",
       "      <th>1990</th>\n",
       "      <td>17.033395</td>\n",
       "      <td>22.337662</td>\n",
       "      <td>19.685529</td>\n",
       "      <td>1990</td>\n",
       "    </tr>\n",
       "    <tr>\n",
       "      <th>1991</th>\n",
       "      <td>16.848940</td>\n",
       "      <td>22.253534</td>\n",
       "      <td>19.551237</td>\n",
       "      <td>1991</td>\n",
       "    </tr>\n",
       "    <tr>\n",
       "      <th>1992</th>\n",
       "      <td>16.805531</td>\n",
       "      <td>22.439786</td>\n",
       "      <td>19.622658</td>\n",
       "      <td>1992</td>\n",
       "    </tr>\n",
       "    <tr>\n",
       "      <th>1993</th>\n",
       "      <td>16.998170</td>\n",
       "      <td>22.780421</td>\n",
       "      <td>19.889296</td>\n",
       "      <td>1993</td>\n",
       "    </tr>\n",
       "  </tbody>\n",
       "</table>\n",
       "</div>"
      ],
      "text/plain": [
       "      cityMPG_mean  hwyMPG_mean  combMPG_mean  year\n",
       "year                                               \n",
       "1984     17.988787    23.085117     20.536952  1984\n",
       "1985     17.874044    23.037081     20.455562  1985\n",
       "1986     17.667494    22.699752     20.183623  1986\n",
       "1987     17.310345    22.445068     19.877706  1987\n",
       "1988     17.333628    22.702655     20.018142  1988\n",
       "1989     17.143972    22.465742     19.804857  1989\n",
       "1990     17.033395    22.337662     19.685529  1990\n",
       "1991     16.848940    22.253534     19.551237  1991\n",
       "1992     16.805531    22.439786     19.622658  1992\n",
       "1993     16.998170    22.780421     19.889296  1993"
      ]
     },
     "execution_count": 7,
     "metadata": {},
     "output_type": "execute_result"
    }
   ],
   "source": [
    "# group dataframe by year and dump into a holding data frame\n",
    "# then take the mean of the MPG columns and dump that into another holding data frame\n",
    "mpg_grouped = mpg.groupby(['year'])\n",
    "mpg_avg = mpg_grouped['cityMPG', 'hwyMPG','combMPG'].agg([np.mean])\n",
    "\n",
    "# rename some columns and fix the index of the holding data frame\n",
    "mpg_avg.columns = ['cityMPG_mean', 'hwyMPG_mean', 'combMPG_mean']\n",
    "mpg_avg['year'] = mpg_avg.index\n",
    "\n",
    "mpg_avg.head(10)"
   ]
  },
  {
   "cell_type": "code",
   "execution_count": 19,
   "metadata": {},
   "outputs": [
    {
     "data": {
      "image/png": "[encoded data removed]",
      "text/plain": [
       "<Figure size 864x432 with 1 Axes>"
      ]
     },
     "metadata": {},
     "output_type": "display_data"
    }
   ],
   "source": [
    "plt.figure(figsize = (12, 6))\n",
    "\n",
    "# now plot all the MPG columns on one graph for easy comparo\n",
    "plt.plot('year', 'cityMPG_mean', data = mpg_avg, marker = '.', \n",
    "         markerfacecolor = 'darkblue', markersize = 12,color = 'blue', linewidth=4, label = 'City')\n",
    "plt.plot('year', 'hwyMPG_mean', data = mpg_avg, marker = '.', \n",
    "         markerfacecolor = 'darkred', markersize = 12,color = 'red', linewidth=4, label = 'Highway')\n",
    "plt.plot('year', 'combMPG_mean', data = mpg_avg, marker = '.', \n",
    "         markerfacecolor = 'darkgreen', markersize = 12,color = 'lightgreen', linewidth=4, label = 'Average')\n",
    "\n",
    "# give the plot some labels\n",
    "# plt.title('MPG Variation over Time', fontsize = 24, fontweight = 'bold', color = 'lightgreen')\n",
    "plt.xlabel('Year', color = 'white')\n",
    "plt.ylabel('MPG', color = 'white')\n",
    "plt.tick_params(axis='x', colors='white')\n",
    "plt.tick_params(axis='y', colors ='white')\n",
    "plt.legend()\n",
    "\n",
    "# save the images to files for later use in presentation\n",
    "plt.savefig('../Presentation/image_files/mpg_time.png', bbox_inches = 'tight')\n",
    "plt.savefig('../Presentation/image_files/mpg_time_clear.png', transparent = True, bbox_inches = 'tight')"
   ]
  },
  {
   "cell_type": "markdown",
   "metadata": {},
   "source": [
    "# Some EDA getting down to specifc Makes\n",
    "\n",
    "Here I want to work on examining just the top 10 makes in this dataset because... well... there are a ton of makes in this data. So, I checked value_counts() for each data frame to determine the top 10 makes in all data sets.\n",
    "\n",
    "I then threw those top 10s into a list which I used to create a new data frame.\n",
    "\n",
    "The next step was plotting the data to view trends"
   ]
  },
  {
   "cell_type": "code",
   "execution_count": 11,
   "metadata": {},
   "outputs": [
    {
     "name": "stdout",
     "output_type": "stream",
     "text": [
      "\n",
      "Top ten makes in the mpg data frame:\n",
      " Chevrolet        3926\n",
      "Ford             3290\n",
      "Dodge            2578\n",
      "GMC              2447\n",
      "Toyota           1947\n",
      "BMW              1851\n",
      "Mercedes-Benz    1477\n",
      "Nissan           1430\n",
      "Volkswagen       1155\n",
      "Mitsubishi       1058\n",
      "Name: make, dtype: int64\n"
     ]
    }
   ],
   "source": [
    "print('\\nTop ten makes in the mpg data frame:\\n', mpg.make.value_counts().head(10))"
   ]
  },
  {
   "cell_type": "code",
   "execution_count": 12,
   "metadata": {},
   "outputs": [
    {
     "data": {
      "text/html": [
       "<div>\n",
       "<style scoped>\n",
       "    .dataframe tbody tr th:only-of-type {\n",
       "        vertical-align: middle;\n",
       "    }\n",
       "\n",
       "    .dataframe tbody tr th {\n",
       "        vertical-align: top;\n",
       "    }\n",
       "\n",
       "    .dataframe thead th {\n",
       "        text-align: right;\n",
       "    }\n",
       "</style>\n",
       "<table border=\"1\" class=\"dataframe\">\n",
       "  <thead>\n",
       "    <tr style=\"text-align: right;\">\n",
       "      <th></th>\n",
       "      <th>year</th>\n",
       "      <th>make</th>\n",
       "      <th>model</th>\n",
       "      <th>vehicle_class</th>\n",
       "      <th>combMPG</th>\n",
       "      <th>cityMPG</th>\n",
       "      <th>hwyMPG</th>\n",
       "      <th>cylinders</th>\n",
       "      <th>displacement</th>\n",
       "      <th>drive</th>\n",
       "      <th>tran_type</th>\n",
       "      <th>fuel_type</th>\n",
       "      <th>co2</th>\n",
       "    </tr>\n",
       "  </thead>\n",
       "  <tbody>\n",
       "    <tr>\n",
       "      <th>2</th>\n",
       "      <td>1985</td>\n",
       "      <td>Dodge</td>\n",
       "      <td>Charger</td>\n",
       "      <td>subcompact</td>\n",
       "      <td>28.0</td>\n",
       "      <td>23</td>\n",
       "      <td>33</td>\n",
       "      <td>4</td>\n",
       "      <td>2.2</td>\n",
       "      <td>fwd</td>\n",
       "      <td>M</td>\n",
       "      <td>regular</td>\n",
       "      <td>329.148148</td>\n",
       "    </tr>\n",
       "    <tr>\n",
       "      <th>3</th>\n",
       "      <td>1985</td>\n",
       "      <td>Dodge</td>\n",
       "      <td>B150/B250 Wagon</td>\n",
       "      <td>van</td>\n",
       "      <td>11.0</td>\n",
       "      <td>10</td>\n",
       "      <td>12</td>\n",
       "      <td>8</td>\n",
       "      <td>5.2</td>\n",
       "      <td>rwd</td>\n",
       "      <td>A</td>\n",
       "      <td>regular</td>\n",
       "      <td>807.909091</td>\n",
       "    </tr>\n",
       "  </tbody>\n",
       "</table>\n",
       "</div>"
      ],
      "text/plain": [
       "   year   make            model vehicle_class  combMPG  cityMPG  hwyMPG  \\\n",
       "2  1985  Dodge          Charger    subcompact     28.0       23      33   \n",
       "3  1985  Dodge  B150/B250 Wagon           van     11.0       10      12   \n",
       "\n",
       "   cylinders  displacement drive tran_type fuel_type         co2  \n",
       "2          4           2.2   fwd         M   regular  329.148148  \n",
       "3          8           5.2   rwd         A   regular  807.909091  "
      ]
     },
     "metadata": {},
     "output_type": "display_data"
    }
   ],
   "source": [
    "# create a data frame based on top 10 makes in the dataset\n",
    "hold_df = pd.DataFrame(mpg.make.value_counts().head(10)).reset_index()\n",
    "hold_df.columns = ['a', 'b']\n",
    "\n",
    "top10_makes = list(hold_df['a'])   # create a list of the top10 makes\n",
    "\n",
    "# create a new data frame with just the top 10 makes\n",
    "top10_df = mpg[mpg['make'].isin(top10_makes)]   \n",
    "\n",
    "# take a peak at the results\n",
    "display(top10_df.head(2))"
   ]
  },
  {
   "cell_type": "markdown",
   "metadata": {},
   "source": [
    "# Top 10 Makes vs MPG\n",
    "\n",
    "A quick and simple bar chat that shows MPG for the top 10 auto makes in the data set"
   ]
  },
  {
   "cell_type": "code",
   "execution_count": 17,
   "metadata": {},
   "outputs": [
    {
     "data": {
      "image/png": "[encoded data removed]",
      "text/plain": [
       "<Figure size 576x576 with 1 Axes>"
      ]
     },
     "metadata": {},
     "output_type": "display_data"
    }
   ],
   "source": [
    "# plot all the things\n",
    "fig = plt.figure()\n",
    "ax1 = fig.add_subplot(111)\n",
    "\n",
    "# a simple horizontal bar chart grouped by make with average of combMPG\n",
    "top10_df.groupby('make').combMPG.mean().sort_values().plot(kind = 'barh', x = 'make', y = 'combMPG', \n",
    "                                                           color = 'skyblue', edgecolor = 'darkblue', ax = ax1)\n",
    "# add some text\n",
    "plt.suptitle('Top 10 Makes vs Average MPG', color = 'white')\n",
    "plt.xlabel('MPG', color = 'white')\n",
    "plt.ylabel('Make', color = 'white')\n",
    "plt.tick_params(axis='x', colors='white')\n",
    "plt.tick_params(axis='y', colors ='white')\n",
    "\n",
    "# add some data labels\n",
    "for i, v in enumerate(sorted(top10_df.groupby('make').combMPG.mean())):\n",
    "    plt.text(v+0.2, i, str(round(v, 2)), color='skyblue', va=\"center\")\n",
    "\n",
    "# output the chart for later use in presentation\n",
    "plt.savefig('../Presentation/image_files/top10_mpg_clear.png', transparent = True, bbox_inches = 'tight')\n",
    "plt.savefig('../Presentation/image_files/top10_mpg.png', bbox_inches = 'tight')\n",
    "\n",
    "plt.show()"
   ]
  },
  {
   "cell_type": "markdown",
   "metadata": {},
   "source": [
    "# Here ends the EDA notebook. \n",
    "\n",
    "## Please continue to the EDA2 notebook ...\n",
    "\n",
    "### where there will be more EDA before we actually get to making the Machine Learning model ...\n",
    "\n",
    "#### because we still need to figure out what is up with MPG anyway ...\n",
    "\n",
    "and because this EDA notebook has gotten...\n",
    "\n",
    "# HUGE ...\n",
    "\n",
    "    but before I go - I need to output those top10 data frames I made for use in EDA2"
   ]
  },
  {
   "cell_type": "code",
   "execution_count": 35,
   "metadata": {},
   "outputs": [],
   "source": [
    "top10_df.to_csv('../datasets/top10_df.csv', index = False)"
   ]
  },
  {
   "cell_type": "code",
   "execution_count": null,
   "metadata": {},
   "outputs": [],
   "source": []
  }
 ],
 "metadata": {
  "kernelspec": {
   "display_name": "Python 3",
   "language": "python",
   "name": "python3"
  },
  "language_info": {
   "codemirror_mode": {
    "name": "ipython",
    "version": 3
   },
   "file_extension": ".py",
   "mimetype": "text/x-python",
   "name": "python",
   "nbconvert_exporter": "python",
   "pygments_lexer": "ipython3",
   "version": "3.6.5"
  }
 },
 "nbformat": 4,
 "nbformat_minor": 2
}
